{
 "cells": [
  {
   "cell_type": "markdown",
   "metadata": {},
   "source": [
    "# oops"
   ]
  },
  {
   "cell_type": "code",
   "execution_count": 1,
   "metadata": {},
   "outputs": [],
   "source": [
    "#class:members and methods\n",
    "#variable...>\n",
    "#function...>method"
   ]
  },
  {
   "cell_type": "code",
   "execution_count": 3,
   "metadata": {},
   "outputs": [
    {
     "name": "stdout",
     "output_type": "stream",
     "text": [
      "hello\n"
     ]
    }
   ],
   "source": [
    "#class and object\n",
    "#class naame:\n",
    "class employee:\n",
    "    def print_info(self):\n",
    "        print(\"hello\")\n",
    "        \n",
    "e = employee()\n",
    "e.print_info()"
   ]
  },
  {
   "cell_type": "code",
   "execution_count": 31,
   "metadata": {},
   "outputs": [
    {
     "name": "stdout",
     "output_type": "stream",
     "text": [
      "314.0\n",
      "125.60000000000001\n",
      "153.86\n",
      "87.92\n"
     ]
    }
   ],
   "source": [
    "#create a circle class and print area and parimeter of the class\n",
    "class circle:\n",
    "    def __init__(self,r):\n",
    "        self.r=r   \n",
    "    def area(self):\n",
    "        print(3.14*self.r*self.r)\n",
    "    def parimeter(self):\n",
    "        print(4*3.14*self.r)\n",
    "c=circle(10)\n",
    "c1=circle(7)\n",
    "c.area()\n",
    "c.parimeter()\n",
    "c1.area()\n",
    "c1.parimeter()\n",
    "    "
   ]
  },
  {
   "cell_type": "code",
   "execution_count": 33,
   "metadata": {},
   "outputs": [
    {
     "name": "stdout",
     "output_type": "stream",
     "text": [
      "314.0\n",
      "125.60000000000001\n",
      "153.86\n",
      "87.92\n",
      "3\n"
     ]
    }
   ],
   "source": [
    "#count the number of objects created\n",
    "class circle:\n",
    "    count=0 #class variable\n",
    "    def __init__(self,r):\n",
    "        self.r=r  #instance variable \n",
    "        circle.count+=1\n",
    "    def area(self):\n",
    "        print(3.14*self.r*self.r)\n",
    "    def parimeter(self):\n",
    "        print(4*3.14*self.r)\n",
    "    def display_count():\n",
    "        print(circle.count)\n",
    "c=circle(10)\n",
    "c1=circle(7)\n",
    "c2=circle(20)\n",
    "c.area()\n",
    "c.parimeter()\n",
    "c1.area()\n",
    "c1.parimeter()\n",
    "circle.display_count()"
   ]
  },
  {
   "cell_type": "markdown",
   "metadata": {},
   "source": [
    "# inheritance\n",
    "#inheritance means code reusability\n",
    "#1.single\n",
    "#2.muliple\n",
    "#3.multilevel\n",
    "#4.hierarchical inheritance\n",
    "#5.hybrid\n",
    "\n",
    "\n"
   ]
  },
  {
   "cell_type": "code",
   "execution_count": 2,
   "metadata": {},
   "outputs": [
    {
     "name": "stdout",
     "output_type": "stream",
     "text": [
      "this is class A method\n",
      "this is class B mehod\n"
     ]
    }
   ],
   "source": [
    "#single level inheritance\n",
    "class A:\n",
    "    def add(self):\n",
    "        print(\"this is class A method\")\n",
    "class B(A):\n",
    "    def sub(self):\n",
    "        print(\"this is class B mehod\")\n",
    "a=A()\n",
    "b=B()\n",
    "a.add()\n",
    "b.sub()"
   ]
  },
  {
   "cell_type": "code",
   "execution_count": 25,
   "metadata": {},
   "outputs": [
    {
     "name": "stdout",
     "output_type": "stream",
     "text": [
      "this is class A method\n",
      "this is class B sub mehod\n"
     ]
    }
   ],
   "source": [
    "#muliple inheritance\n",
    "class A:\n",
    "    def add(self):\n",
    "        print(\"this is class A method\")\n",
    "        def sub(self):\n",
    "            print(\"this is class A sub method\")\n",
    "class B:\n",
    "    def sub(self):\n",
    "        print(\"this is class B sub mehod\")\n",
    "class C(B,A):\n",
    "    pass\n",
    "c = C()\n",
    "c.add()\n",
    "c.sub()"
   ]
  },
  {
   "cell_type": "code",
   "execution_count": 27,
   "metadata": {},
   "outputs": [
    {
     "name": "stdout",
     "output_type": "stream",
     "text": [
      "this is class A method\n",
      "this is class B sub mehod\n",
      "this is class C sub mehod\n"
     ]
    }
   ],
   "source": [
    "#MULTI-LEVEL INHERITANCE\n",
    "class A:\n",
    "    def add(self):\n",
    "        print(\"this is class A method\")\n",
    "        \n",
    "class B(A):\n",
    "    def sub(self):\n",
    "        print(\"this is class B sub mehod\")\n",
    "class C(B):\n",
    "     def mul(self):\n",
    "        print(\"this is class C sub mehod\")\n",
    "c=C()\n",
    "c.add()\n",
    "c.sub()\n",
    "c.mul()\n",
    "  "
   ]
  },
  {
   "cell_type": "code",
   "execution_count": 35,
   "metadata": {},
   "outputs": [
    {
     "name": "stdout",
     "output_type": "stream",
     "text": [
      "this is class A method\n",
      "this is class B sub mehod\n",
      "this is class A method\n",
      "this is class C sub mehod\n"
     ]
    }
   ],
   "source": [
    "#hirarchial inheritance\n",
    "class A:\n",
    "    def add(self):\n",
    "        print(\"this is class A method\")\n",
    "        \n",
    "class B(A):\n",
    "    def sub(self):\n",
    "        print(\"this is class B sub mehod\")\n",
    "class C(A):\n",
    "     def mul(self):\n",
    "        print(\"this is class C sub mehod\")\n",
    "b=B()\n",
    "c=C()\n",
    "b.add()\n",
    "b.sub()\n",
    "c.add()\n",
    "c.mul()"
   ]
  },
  {
   "cell_type": "code",
   "execution_count": 36,
   "metadata": {},
   "outputs": [
    {
     "ename": "TypeError",
     "evalue": "Cannot create a consistent method resolution\norder (MRO) for bases A, B",
     "output_type": "error",
     "traceback": [
      "\u001b[1;31m---------------------------------------------------------------------------\u001b[0m",
      "\u001b[1;31mTypeError\u001b[0m                                 Traceback (most recent call last)",
      "\u001b[1;32m<ipython-input-36-ed483a689ca9>\u001b[0m in \u001b[0;36m<module>\u001b[1;34m\u001b[0m\n\u001b[0;32m      7\u001b[0m     \u001b[1;32mdef\u001b[0m \u001b[0msub\u001b[0m\u001b[1;33m(\u001b[0m\u001b[0mself\u001b[0m\u001b[1;33m)\u001b[0m\u001b[1;33m:\u001b[0m\u001b[1;33m\u001b[0m\u001b[1;33m\u001b[0m\u001b[0m\n\u001b[0;32m      8\u001b[0m         \u001b[0mprint\u001b[0m\u001b[1;33m(\u001b[0m\u001b[1;34m\"this is class B sub mehod\"\u001b[0m\u001b[1;33m)\u001b[0m\u001b[1;33m\u001b[0m\u001b[1;33m\u001b[0m\u001b[0m\n\u001b[1;32m----> 9\u001b[1;33m \u001b[1;32mclass\u001b[0m \u001b[0mC\u001b[0m\u001b[1;33m(\u001b[0m\u001b[0mA\u001b[0m\u001b[1;33m,\u001b[0m\u001b[0mB\u001b[0m\u001b[1;33m)\u001b[0m\u001b[1;33m:\u001b[0m\u001b[1;33m\u001b[0m\u001b[1;33m\u001b[0m\u001b[0m\n\u001b[0m\u001b[0;32m     10\u001b[0m      \u001b[1;32mdef\u001b[0m \u001b[0mmul\u001b[0m\u001b[1;33m(\u001b[0m\u001b[0mself\u001b[0m\u001b[1;33m)\u001b[0m\u001b[1;33m:\u001b[0m\u001b[1;33m\u001b[0m\u001b[1;33m\u001b[0m\u001b[0m\n\u001b[0;32m     11\u001b[0m         \u001b[0mprint\u001b[0m\u001b[1;33m(\u001b[0m\u001b[1;34m\"this is class C sub mehod\"\u001b[0m\u001b[1;33m)\u001b[0m\u001b[1;33m\u001b[0m\u001b[1;33m\u001b[0m\u001b[0m\n",
      "\u001b[1;31mTypeError\u001b[0m: Cannot create a consistent method resolution\norder (MRO) for bases A, B"
     ]
    }
   ],
   "source": [
    "#Hybrid inheritance-->BOTH HIRARCHICAL ND MULTIPLE INHERITANCE\n",
    "class A:\n",
    "    def add(self):\n",
    "        print(\"this is class A method\")\n",
    "        \n",
    "class B(A):\n",
    "    def sub(self):\n",
    "        print(\"this is class B sub mehod\")\n",
    "class C(A):\n",
    "     def mul(self):\n",
    "        print(\"this is class C sub mehod\")\n",
    "class D:\n",
    "     def div(self):\n",
    "    print(\"this is class D sub mehod\")\n",
    "c=C()\n",
    "c.add()\n",
    "c.sub()\n",
    "c.mul()"
   ]
  },
  {
   "cell_type": "code",
   "execution_count": 3,
   "metadata": {},
   "outputs": [],
   "source": [
    "#real time senarios:\n",
    "#class1-->\n",
    "#mention student details-->name,rollno,branch\n",
    "#method-->print student details\n",
    "#class 2-->\n",
    "#members-->rollno,total fe,paid\n",
    "#methos-->print the due amount\n",
    "class display:\n",
    "    def __init__(self,n,r,b):\n",
    "        self.name=n\n",
    "        "
   ]
  },
  {
   "cell_type": "code",
   "execution_count": 5,
   "metadata": {},
   "outputs": [
    {
     "name": "stdout",
     "output_type": "stream",
     "text": [
      "Enter length of rectangle: 5\n",
      "Enter breadth of rectangle: 6\n",
      "Area of rectangle: 30\n",
      "\n"
     ]
    }
   ],
   "source": [
    "#write a Python Program to Find the Area of a Rectangle Using Classes\n",
    "class rectangle():\n",
    "    def __init__(self,breadth,length):\n",
    "        self.breadth=breadth\n",
    "        self.length=length\n",
    "    def area(self):\n",
    "        return self.breadth*self.length\n",
    "a=int(input(\"Enter length of rectangle: \"))\n",
    "b=int(input(\"Enter breadth of rectangle: \"))\n",
    "obj=rectangle(a,b)\n",
    "print(\"Area of rectangle:\",obj.area())\n",
    " \n",
    "print()"
   ]
  },
  {
   "cell_type": "code",
   "execution_count": 2,
   "metadata": {},
   "outputs": [
    {
     "name": "stdout",
     "output_type": "stream",
     "text": [
      "0. Exit\n",
      "1. Add\n",
      "2. Delete\n",
      "3. Display\n",
      "Enter choice: 1\n",
      "Enter number to append: 23\n",
      "List:  [23]\n",
      "0. Exit\n",
      "1. Add\n",
      "2. Delete\n",
      "3. Display\n",
      "Enter choice: 1\n",
      "Enter number to append: 54\n",
      "List:  [23, 54]\n",
      "0. Exit\n",
      "1. Add\n",
      "2. Delete\n",
      "3. Display\n",
      "Enter choice: 1\n",
      "Enter number to append: 32\n",
      "List:  [23, 54, 32]\n",
      "0. Exit\n",
      "1. Add\n",
      "2. Delete\n",
      "3. Display\n",
      "Enter choice: 2\n",
      "Enter number to remove: 32\n",
      "List:  [23, 54]\n",
      "0. Exit\n",
      "1. Add\n",
      "2. Delete\n",
      "3. Display\n",
      "Enter choice: 3\n",
      "List:  [23, 54]\n",
      "0. Exit\n",
      "1. Add\n",
      "2. Delete\n",
      "3. Display\n",
      "Enter choice: 54\n",
      "Invalid choice!!\n",
      "0. Exit\n",
      "1. Add\n",
      "2. Delete\n",
      "3. Display\n",
      "Enter choice: 0\n",
      "Exiting!\n",
      "\n"
     ]
    }
   ],
   "source": [
    "#Python Program to Append, Delete and Display Elements of a List Using Classes\n",
    "class check():\n",
    "    def __init__(self):\n",
    "        self.n=[]\n",
    "    def add(self,a):\n",
    "        return self.n.append(a)\n",
    "    def remove(self,b):\n",
    "        self.n.remove(b)\n",
    "    def dis(self):\n",
    "        return (self.n)\n",
    " \n",
    "obj=check()\n",
    " \n",
    "choice=1\n",
    "while choice!=0:\n",
    "    print(\"0. Exit\")\n",
    "    print(\"1. Add\")\n",
    "    print(\"2. Delete\")\n",
    "    print(\"3. Display\")\n",
    "    choice=int(input(\"Enter choice: \"))\n",
    "    if choice==1:\n",
    "        n=int(input(\"Enter number to append: \"))\n",
    "        obj.add(n)\n",
    "        print(\"List: \",obj.dis())\n",
    " \n",
    "    elif choice==2:\n",
    "        n=int(input(\"Enter number to remove: \"))\n",
    "        obj.remove(n)\n",
    "        print(\"List: \",obj.dis())\n",
    " \n",
    "    elif choice==3:\n",
    "        print(\"List: \",obj.dis())\n",
    "    elif choice==0:\n",
    "        print(\"Exiting!\")\n",
    "    else:\n",
    "        print(\"Invalid choice!!\")\n",
    " \n",
    "print()"
   ]
  },
  {
   "cell_type": "code",
   "execution_count": 5,
   "metadata": {},
   "outputs": [
    {
     "name": "stdout",
     "output_type": "stream",
     "text": [
      "Enter radius of circle: 5\n",
      "Area of circle: 78.54\n",
      "Perimeter of circle: 31.42\n"
     ]
    }
   ],
   "source": [
    "#Python Program to Create a Class and Compute the Area and the Perimeter of the Circle\n",
    "import math\n",
    "class circle():\n",
    "    def __init__(self,radius):\n",
    "        self.radius=radius\n",
    "    def area(self):\n",
    "        return math.pi*(self.radius**2)\n",
    "    def perimeter(self):\n",
    "        return 2*math.pi*self.radius\n",
    " \n",
    "r=int(input(\"Enter radius of circle: \"))\n",
    "obj=circle(r)\n",
    "print(\"Area of circle:\",round(obj.area(),2))\n",
    "print(\"Perimeter of circle:\",round(obj.perimeter(),2))"
   ]
  },
  {
   "cell_type": "code",
   "execution_count": null,
   "metadata": {},
   "outputs": [],
   "source": []
  }
 ],
 "metadata": {
  "kernelspec": {
   "display_name": "Python 3",
   "language": "python",
   "name": "python3"
  },
  "language_info": {
   "codemirror_mode": {
    "name": "ipython",
    "version": 3
   },
   "file_extension": ".py",
   "mimetype": "text/x-python",
   "name": "python",
   "nbconvert_exporter": "python",
   "pygments_lexer": "ipython3",
   "version": "3.7.3"
  }
 },
 "nbformat": 4,
 "nbformat_minor": 2
}
