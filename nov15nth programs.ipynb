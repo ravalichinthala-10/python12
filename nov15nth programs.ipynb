{
 "cells": [
  {
   "cell_type": "code",
   "execution_count": 26,
   "metadata": {},
   "outputs": [
    {
     "name": "stdout",
     "output_type": "stream",
     "text": [
      "The factors of 6 are:\n",
      "1 2 3 6 "
     ]
    }
   ],
   "source": [
    "#Read a number as input and Print the Output as Factors of the given number\n",
    "  #Example 1:\n",
    "    #Input : 6\n",
    "    #Output : 1 2 3 6\n",
    "\n",
    "def print_factors(x):\n",
    "    print(\"The factors of\",x,\"are:\")\n",
    "    for i in range(1, x + 1):\n",
    "        if x % i == 0:\n",
    "            print(i,end=\" \")\n",
    "num = 6\n",
    "print_factors(num)"
   ]
  },
  {
   "cell_type": "code",
   "execution_count": 24,
   "metadata": {},
   "outputs": [
    {
     "name": "stdout",
     "output_type": "stream",
     "text": [
      "The factors of 12 are:\n",
      "1 2 3 4 6 12 "
     ]
    }
   ],
   "source": [
    "#Example 2 :\n",
    "    #Input : 12\n",
    "    #Output : 1 2 3 4 6 12\n",
    "def print_factors(x):\n",
    "    print(\"The factors of\",x,\"are:\")\n",
    "    for i in range(1, x + 1):\n",
    "        if x % i == 0:\n",
    "            print(i,end=\" \")\n",
    "num = 12\n",
    "print_factors(num)"
   ]
  },
  {
   "cell_type": "code",
   "execution_count": 1,
   "metadata": {},
   "outputs": [
    {
     "name": "stdout",
     "output_type": "stream",
     "text": [
      "Enter upper range: 10\n",
      "2,3,5,7,count 4\n"
     ]
    }
   ],
   "source": [
    "#Read the input as number N and print the output as prime number count between 1 to N\n",
    "     #Example 1;\n",
    "             #Input : 10\n",
    "            #Output : 4 (2,3,5,7)\n",
    "upto = int(input(\"Enter upper range: \"))  \n",
    "cnt = 0\n",
    "for num in range(1,upto + 1):\n",
    "   \n",
    "   if num > 1:  \n",
    "        for i in range(2,num):  \n",
    "            if (num % i) == 0:  \n",
    "                break\n",
    "               \n",
    "        else:\n",
    "            print(num,end=\",\")\n",
    "            cnt+=1\n",
    "print(\"count\", cnt)\n"
   ]
  },
  {
   "cell_type": "code",
   "execution_count": 2,
   "metadata": {},
   "outputs": [
    {
     "name": "stdout",
     "output_type": "stream",
     "text": [
      "1 2 3 4 5 6 7 8 9 11 22 33 44 55 66 77 88 99 "
     ]
    }
   ],
   "source": [
    " #Read the input as two limits and print the output as palindrome count between the two limits\n",
    "   \n",
    "   #Example 1:\n",
    "      #Input : 1 100\n",
    "      #Output : 1 2 3 4 5 6 7 8 9 11 22 33 44 55 66 77 88 99\n",
    "        \n",
    "for num in range(1,100):\n",
    "    temp=num\n",
    "    reverse=0\n",
    "    while temp>0:\n",
    "        reminder=temp%10\n",
    "        reverse=(reverse*10)+reminder\n",
    "        temp=temp//10\n",
    "    if num==reverse:\n",
    "        print(num,end=\" \")\n",
    "        \n"
   ]
  },
  {
   "cell_type": "code",
   "execution_count": 3,
   "metadata": {},
   "outputs": [
    {
     "name": "stdout",
     "output_type": "stream",
     "text": [
      "1 2 3 4 5 6 7 8 9 "
     ]
    }
   ],
   "source": [
    "#Example 2;\n",
    "     #Input : 1 10\n",
    "     #Output : 1 2 3 4 5 6 7 8 9\n",
    "for num in range(1,10):\n",
    "    temp=num\n",
    "    reverse=0\n",
    "    while temp>0:\n",
    "        reminder=temp%10\n",
    "        reverse=(reverse*10)+reminder\n",
    "        temp=temp//10\n",
    "    if num==reverse:\n",
    "        print(num,end=\" \")\n",
    "        "
   ]
  },
  {
   "cell_type": "code",
   "execution_count": 5,
   "metadata": {},
   "outputs": [
    {
     "name": "stdout",
     "output_type": "stream",
     "text": [
      "number: 6918\n",
      "9\n"
     ]
    }
   ],
   "source": [
    "#The program must accept an integer N as the input. Need to print the largest digit     from the given number.\n",
    "  #Example 1:\n",
    "    #nput1: 6 9 1 8\n",
    "    #Output:9\n",
    "a = input(\"number: \")\n",
    "print (sorted(list(a))[-1]) \n"
   ]
  },
  {
   "cell_type": "code",
   "execution_count": 4,
   "metadata": {},
   "outputs": [
    {
     "name": "stdout",
     "output_type": "stream",
     "text": [
      "number: 178511\n",
      "8\n"
     ]
    }
   ],
   "source": [
    "#Example2:\n",
    "#Input2: 1 7 8 5 1 1\n",
    "    #Output:8\n",
    "a = input(\"number: \")\n",
    "print (sorted(list(a))[-1])"
   ]
  },
  {
   "cell_type": "code",
   "execution_count": 9,
   "metadata": {},
   "outputs": [
    {
     "name": "stdout",
     "output_type": "stream",
     "text": [
      "enter a number1889\n",
      "16\n"
     ]
    }
   ],
   "source": [
    "#The program must accept an integer N as the input. Need to print the output in the following manner.\n",
    " # Boundary Condition(s):\n",
    "    #Example:\n",
    "     # Input1: 1889\n",
    "     # Output:16\n",
    "    #Input2: 19872\n",
    "    #  Output:10\n",
    "num=int(input('enter a number'))\n",
    "n2=0\n",
    "while num>0:\n",
    "    rem=num%10\n",
    "    if rem%2==0:\n",
    "        n2=n2+rem\n",
    "    num=num//10\n",
    "print(n2)\n",
    "           \n"
   ]
  },
  {
   "cell_type": "code",
   "execution_count": 5,
   "metadata": {},
   "outputs": [
    {
     "name": "stdout",
     "output_type": "stream",
     "text": [
      "enter a number5\n",
      "120\n"
     ]
    }
   ],
   "source": [
    "#Write a user-defined function to find factorial of a number in all the possible ways.\n",
    "n=int(input(\"enter a number\"))\n",
    "fact=1\n",
    "if n==0:\n",
    "       print(\"factorial of 0 is 1\")\n",
    "else:\n",
    "    for i in range(1,n+1):\n",
    "        fact=fact*i\n",
    "    print(fact)    \n",
    "  "
   ]
  },
  {
   "cell_type": "code",
   "execution_count": 3,
   "metadata": {},
   "outputs": [
    {
     "name": "stdout",
     "output_type": "stream",
     "text": [
      "enter number123\n",
      "no\n"
     ]
    }
   ],
   "source": [
    "#The program must accept an integer N as the input. Need to print the output in the following manner.\n",
    "  #Example Input/Output 1:\n",
    "    #Input1:145\n",
    "    #Output:yes\n",
    "    #Input2:123\n",
    "   # Output:no\n",
    " #Explanation : \n",
    "#Individual digit factorial sum is the same as the original number then need to print   YES otherwise  need to print NO\n",
    " #145 - 1! + 4! + 5! - 1 + 24 + 120 -- 145 -- YES\n",
    " #123 - 1! + 2! + 3! - 1 + 2 + 6 - 9 -- NO\n",
    "import math\n",
    "num=int(input('enter number'))\n",
    "temp=num\n",
    "n=0\n",
    "while num>0:\n",
    "    rem=num%10\n",
    "    x=math.factorial(rem)\n",
    "    n=n+x\n",
    "    num=num//10\n",
    "if temp==n:\n",
    "    print('yes')\n",
    "else:\n",
    "    print('no')"
   ]
  },
  {
   "cell_type": "code",
   "execution_count": null,
   "metadata": {},
   "outputs": [],
   "source": []
  }
 ],
 "metadata": {
  "kernelspec": {
   "display_name": "Python 3",
   "language": "python",
   "name": "python3"
  },
  "language_info": {
   "codemirror_mode": {
    "name": "ipython",
    "version": 3
   },
   "file_extension": ".py",
   "mimetype": "text/x-python",
   "name": "python",
   "nbconvert_exporter": "python",
   "pygments_lexer": "ipython3",
   "version": "3.7.3"
  }
 },
 "nbformat": 4,
 "nbformat_minor": 2
}
