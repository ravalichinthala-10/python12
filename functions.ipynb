{
 "cells": [
  {
   "cell_type": "markdown",
   "metadata": {},
   "source": [
    "# functions"
   ]
  },
  {
   "cell_type": "code",
   "execution_count": 2,
   "metadata": {},
   "outputs": [
    {
     "name": "stdout",
     "output_type": "stream",
     "text": [
      "(1, 2, 3, 4, 5)\n",
      "15\n"
     ]
    }
   ],
   "source": [
    "def addition(*b):\n",
    "    sum=0\n",
    "    print(b)\n",
    "    for i in b:\n",
    "        sum=sum+i\n",
    "    print(sum)\n",
    "addition(1,2,3,4,5)"
   ]
  },
  {
   "cell_type": "code",
   "execution_count": 1,
   "metadata": {},
   "outputs": [
    {
     "name": "stdout",
     "output_type": "stream",
     "text": [
      "15\n"
     ]
    }
   ],
   "source": [
    "def addition(*b):\n",
    "    print(sum(b))\n",
    "addition(1,2,3,4,5)"
   ]
  },
  {
   "cell_type": "markdown",
   "metadata": {},
   "source": [
    "# function programs"
   ]
  },
  {
   "cell_type": "code",
   "execution_count": 6,
   "metadata": {},
   "outputs": [
    {
     "name": "stdout",
     "output_type": "stream",
     "text": [
      "enter the name:sai\n",
      "no\n"
     ]
    }
   ],
   "source": [
    " #Accept name as input and search for that name in the master list if the name is available, print yes or print n\n",
    "def accept(a,n):\n",
    "    if n in a:\n",
    "        print(\"yes\")\n",
    "    else:\n",
    "        print(\"no\")\n",
    "n=input(\"enter the name:\")\n",
    "list=['ravali','vijaya','saiteja','nasser']\n",
    "accept(list,n)"
   ]
  },
  {
   "cell_type": "code",
   "execution_count": 10,
   "metadata": {},
   "outputs": [
    {
     "name": "stdout",
     "output_type": "stream",
     "text": [
      "4\n"
     ]
    }
   ],
   "source": [
    "#Print the count of the students whose age is >20\n",
    "def count_age(x):\n",
    "    list=[]\n",
    "    for i in x.values():\n",
    "        if i>20:\n",
    "            list.append(i)\n",
    "        else:  \n",
    "            pass\n",
    "    print(len(list))\n",
    "students={ \"ravali\":23,\"vijaya\":24,\"naseer\":26,\"sai stupid\":50}\n",
    "count_age(students)"
   ]
  },
  {
   "cell_type": "code",
   "execution_count": 11,
   "metadata": {},
   "outputs": [
    {
     "name": "stdout",
     "output_type": "stream",
     "text": [
      "enter the value:11\n",
      "True\n"
     ]
    }
   ],
   "source": [
    "#3. Read the Input as number and print the output as true or false.\n",
    "#Example 1:\n",
    "#Input : 11\n",
    "#Output : True\n",
    "def prime(n):\n",
    "    x=0\n",
    "    for i in range(1,n+1):\n",
    "        if n%i==0:\n",
    "            x+=1\n",
    "    if x==2:\n",
    "       print(\"True\")\n",
    "    else:\n",
    "       print(\"False\")        \n",
    "n=int(input(\"enter the value:\"))\n",
    "prime(n)"
   ]
  },
  {
   "cell_type": "code",
   "execution_count": null,
   "metadata": {},
   "outputs": [],
   "source": []
  }
 ],
 "metadata": {
  "kernelspec": {
   "display_name": "Python 3",
   "language": "python",
   "name": "python3"
  },
  "language_info": {
   "codemirror_mode": {
    "name": "ipython",
    "version": 3
   },
   "file_extension": ".py",
   "mimetype": "text/x-python",
   "name": "python",
   "nbconvert_exporter": "python",
   "pygments_lexer": "ipython3",
   "version": "3.7.3"
  }
 },
 "nbformat": 4,
 "nbformat_minor": 2
}
