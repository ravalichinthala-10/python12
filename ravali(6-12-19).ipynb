{
 "cells": [
  {
   "cell_type": "code",
   "execution_count": 7,
   "metadata": {},
   "outputs": [
    {
     "name": "stdout",
     "output_type": "stream",
     "text": [
      "enter todays date:6\n",
      "enter month:12\n",
      "enter year:2019\n",
      "7 - 12 - 2019\n"
     ]
    }
   ],
   "source": [
    "#quation number 4\n",
    "d=int(input(\"enter todays date:\"))\n",
    "m=int(input(\"enter month:\")) \n",
    "y=int(input(\"enter year:\"))   \n",
    "print(d+1,\"-\",m,\"-\",y)\n",
    "\n",
    "\n"
   ]
  },
  {
   "cell_type": "code",
   "execution_count": 3,
   "metadata": {},
   "outputs": [
    {
     "data": {
      "text/plain": [
       "Counter({'A': 4, 'B': 3, 'C': 5})"
      ]
     },
     "execution_count": 3,
     "metadata": {},
     "output_type": "execute_result"
    }
   ],
   "source": [
    "#quation number 2\n",
    "from collections import Counter\n",
    "str='AAAABBBCCCCC'\n",
    "a=list(str)\n",
    "Counter(a)"
   ]
  },
  {
   "cell_type": "code",
   "execution_count": 8,
   "metadata": {},
   "outputs": [
    {
     "name": "stdout",
     "output_type": "stream",
     "text": [
      "enter no.of legs:94\n",
      "enter no.of heads:35\n",
      "23.0 12.0\n"
     ]
    }
   ],
   "source": [
    "#quation number 3\n",
    "def puzzle(legs,heads):\n",
    "   if legs%2!=0 or heads==0 or heads>legs:\n",
    "       print('No solution')\n",
    "   else:\n",
    "       r=((legs+(-2*heads))/2)\n",
    "       c=(heads-r)\n",
    "       print(c,r)\n",
    "legs=int(input(\"enter no.of legs:\"))\n",
    "heads=int(input(\"enter no.of heads:\"))\n",
    "puzzle(legs,heads)"
   ]
  },
  {
   "cell_type": "code",
   "execution_count": 9,
   "metadata": {},
   "outputs": [
    {
     "data": {
      "text/plain": [
       "'pneumomrz'"
      ]
     },
     "execution_count": 9,
     "metadata": {},
     "output_type": "execute_result"
    }
   ],
   "source": [
    "#question number-6\n",
    "# Given a string and number N, we need to mirror the characters from N-th position up to lenth of the string in the alphabetical order. In the mirror operation we change 'a' to 'z', 'b' to 'y', and so on.\n",
    "def mirror(str,n):\n",
    "   rev=\"zyxwvutsrqponmlkjihgfedcba\"\n",
    "   l = len(str)\n",
    "   value = \"\"\n",
    "   for i in range(0, n):\n",
    "       value = value + str[i]        \n",
    "   for i in range(n, l):\n",
    "       value = (value + rev[ord(str[i]) - ord('a')])\n",
    "         \n",
    "   return value\n",
    "\n",
    "mirror(\"pneumonia\",6)\n",
    "\n",
    "\n"
   ]
  },
  {
   "cell_type": "code",
   "execution_count": 10,
   "metadata": {},
   "outputs": [
    {
     "data": {
      "text/plain": [
       "'Pediatrics'"
      ]
     },
     "execution_count": 10,
     "metadata": {},
     "output_type": "execute_result"
    }
   ],
   "source": [
    "# quation number 1\n",
    "def mvs(list,dict):\n",
    "\n",
    "   cP,cO,cE=0,0,0\n",
    "   for i in list:\n",
    "       if 'P'==i:\n",
    "           cP+=1\n",
    "       elif 'E'==i:\n",
    "           cE+=1\n",
    "       elif 'O'==i:\n",
    "           cO+=1\n",
    "     \n",
    "           \n",
    "   if cP>cO and cP>cE:\n",
    "       return dict['P']\n",
    "   elif(cO>cE):\n",
    "       return dict['O']\n",
    "   else:\n",
    "       return dict['E']\n",
    "\n",
    "\n",
    "list=[301,'P',302, 'P' ,305, 'P' ,401, 'E' ,656, 'E']\n",
    "dict={\"P\":\"Pediatrics\",\"O\":\"Orthopedics\",\"E\":\"ENT\"}\n",
    "mvs(list,dict)\n"
   ]
  },
  {
   "cell_type": "code",
   "execution_count": null,
   "metadata": {},
   "outputs": [],
   "source": []
  }
 ],
 "metadata": {
  "kernelspec": {
   "display_name": "Python 3",
   "language": "python",
   "name": "python3"
  },
  "language_info": {
   "codemirror_mode": {
    "name": "ipython",
    "version": 3
   },
   "file_extension": ".py",
   "mimetype": "text/x-python",
   "name": "python",
   "nbconvert_exporter": "python",
   "pygments_lexer": "ipython3",
   "version": "3.7.3"
  }
 },
 "nbformat": 4,
 "nbformat_minor": 2
}
