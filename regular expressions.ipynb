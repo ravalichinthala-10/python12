{
 "cells": [
  {
   "cell_type": "markdown",
   "metadata": {},
   "source": [
    "# regular expressions"
   ]
  },
  {
   "cell_type": "code",
   "execution_count": 1,
   "metadata": {},
   "outputs": [
    {
     "name": "stdout",
     "output_type": "stream",
     "text": [
      "True\n",
      "False\n"
     ]
    }
   ],
   "source": [
    "#two digit numbers\n",
    "import re\n",
    "def twoDigitNumberMatch(n):\n",
    "    pattern= \"^[0-9]{2}$\"\n",
    "    n=str(n)\n",
    "    if re.match(pattern,n):\n",
    "        return True\n",
    "    return False\n",
    "print(twoDigitNumberMatch(12))\n",
    "print(twoDigitNumberMatch(123))\n"
   ]
  },
  {
   "cell_type": "code",
   "execution_count": 3,
   "metadata": {},
   "outputs": [
    {
     "data": {
      "text/plain": [
       "True"
      ]
     },
     "execution_count": 3,
     "metadata": {},
     "output_type": "execute_result"
    }
   ],
   "source": [
    "#user name matching\n",
    "#[A-z]\n",
    "#[a-z]\n",
    "def matchusername(s):\n",
    "    pattern='^[A-z a-z 0-9 _]{6,15}$'\n",
    "    if re.match(pattern,s):\n",
    "        return True\n",
    "    return False\n",
    "matchusername('ravali_506')\n",
    "matchusername('ravali')\n"
   ]
  },
  {
   "cell_type": "code",
   "execution_count": 9,
   "metadata": {},
   "outputs": [
    {
     "data": {
      "text/plain": [
       "False"
      ]
     },
     "execution_count": 9,
     "metadata": {},
     "output_type": "execute_result"
    }
   ],
   "source": [
    "#16C35A0506\n",
    "def collegrollno(s):\n",
    "    pattern=\"^[1][6][A-C][3][5][0][0-5][0][0-6]$\"\n",
    "    if re.match(pattern,s):\n",
    "        return True\n",
    "    return False\n",
    "collegrollno(\"16C35A0506\")\n",
    "\n"
   ]
  },
  {
   "cell_type": "code",
   "execution_count": 12,
   "metadata": {},
   "outputs": [
    {
     "data": {
      "text/plain": [
       "True"
      ]
     },
     "execution_count": 12,
     "metadata": {},
     "output_type": "execute_result"
    }
   ],
   "source": [
    "#validate password\n",
    "def password(s):\n",
    "    pattern=\"^[A-Z a-z 0-9 @ # !]{6,15}$\"\n",
    "    if re.match(pattern,s):\n",
    "        return True\n",
    "    return False\n",
    "password(\"Rav@li6789\")\n"
   ]
  },
  {
   "cell_type": "code",
   "execution_count": 3,
   "metadata": {},
   "outputs": [
    {
     "name": "stdout",
     "output_type": "stream",
     "text": [
      "True\n",
      "False\n"
     ]
    }
   ],
   "source": [
    "#indianphone number\n",
    "def validatephonenum(n):\n",
    "    pattern=\"^[6-9][0-9]{9}$\"\n",
    "    n=str(n)\n",
    "    if re.match(pattern,n):\n",
    "        return True\n",
    "    return False\n",
    "print(validatephonenum(\"6846394315\"))\n",
    "print(validatephonenum(\"1234567890\"))"
   ]
  },
  {
   "cell_type": "code",
   "execution_count": 8,
   "metadata": {},
   "outputs": [
    {
     "data": {
      "text/plain": [
       "True"
      ]
     },
     "execution_count": 8,
     "metadata": {},
     "output_type": "execute_result"
    }
   ],
   "source": [
    "#email id validation\n",
    "def mailidvalidate(n):\n",
    "    pattern='^[A-Z a-z][a-z A-Z 0-9 _ .]{5,15}[@][A-z]{3,10}[.][A-Z a-z]{2,3}$'\n",
    "    if re.match(pattern,n):\n",
    "       return True\n",
    "    return False\n",
    "mailidvalidate('Ravli.chinta123@gmail.com') "
   ]
  },
  {
   "cell_type": "code",
   "execution_count": null,
   "metadata": {},
   "outputs": [],
   "source": []
  }
 ],
 "metadata": {
  "kernelspec": {
   "display_name": "Python 3",
   "language": "python",
   "name": "python3"
  },
  "language_info": {
   "codemirror_mode": {
    "name": "ipython",
    "version": 3
   },
   "file_extension": ".py",
   "mimetype": "text/x-python",
   "name": "python",
   "nbconvert_exporter": "python",
   "pygments_lexer": "ipython3",
   "version": "3.7.3"
  }
 },
 "nbformat": 4,
 "nbformat_minor": 2
}
